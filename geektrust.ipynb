{
 "cells": [
  {
   "cell_type": "code",
   "execution_count": 1,
   "metadata": {},
   "outputs": [],
   "source": [
    "#Importing necessary libraries\n",
    "import numpy as np\n",
    "import pandas as pd"
   ]
  },
  {
   "cell_type": "code",
   "execution_count": 2,
   "metadata": {},
   "outputs": [
    {
     "name": "stdout",
     "output_type": "stream",
     "text": [
      "[0, 15, 30, 45, 100, 115, 130, 145, 200, 215, 230, 245, 300, 315, 330, 345, 400, 415, 430, 445, 500, 515, 530, 545, 600, 615, 630, 645, 700, 715, 730, 745, 800, 815, 830, 845, 900, 915, 930, 945, 1000, 1015, 1030, 1045, 1100, 1115, 1130, 1145, 1200, 1215, 1230, 1245, 1300, 1315, 1330, 1345, 1400, 1415, 1430, 1445, 1500, 1515, 1530, 1545, 1600, 1615, 1630, 1645, 1700, 1715, 1730, 1745, 1800, 1815, 1830, 1845, 1900, 1915, 1930, 1945, 2000, 2015, 2030, 2045, 2100, 2115, 2130, 2145, 2200, 2215, 2230, 2245, 2300, 2315, 2330, 2345]\n"
     ]
    }
   ],
   "source": [
    "#Creating index for the table\n",
    "hr=[\"00\",\"01\",\"02\",\"03\",\"04\",\"05\",\"06\",\"07\",\"08\",\"09\",\"10\",\"11\",\"12\",\"13\",\"14\",\"15\",\"16\",\"17\",\"18\",\"19\",\"20\",\"21\",\"22\",\"23\"]\n",
    "minute=[\"00\",\"15\",\"30\",\"45\"]\n",
    "times=[]\n",
    "for i in range(0,24):\n",
    "    for j in range (0,4):\n",
    "        times.append(int(hr[i]+minute[j]))\n",
    "print(times)\n"
   ]
  },
  {
   "cell_type": "code",
   "execution_count": 3,
   "metadata": {},
   "outputs": [],
   "source": [
    "numCols=3\n",
    "#times=pd.to_datetime(times, format=\"%H%M\")\n",
    "#timess=times.strftime(\"%H:%M\")\n",
    "\n",
    "#print(timess)"
   ]
  },
  {
   "cell_type": "code",
   "execution_count": 4,
   "metadata": {},
   "outputs": [],
   "source": [
    "#Creating dataframe table with time as index and the three rooms as columns\n",
    "data=pd.DataFrame(index=times,columns=range(numCols))\n"
   ]
  },
  {
   "cell_type": "code",
   "execution_count": 5,
   "metadata": {},
   "outputs": [],
   "source": [
    "column_names=[\"C-Cave\",\"D-Tower\",\"M-Mansion\"]"
   ]
  },
  {
   "cell_type": "code",
   "execution_count": 6,
   "metadata": {},
   "outputs": [],
   "source": [
    "data.columns=column_names"
   ]
  },
  {
   "cell_type": "code",
   "execution_count": 7,
   "metadata": {},
   "outputs": [
    {
     "data": {
      "text/html": [
       "<div>\n",
       "<style scoped>\n",
       "    .dataframe tbody tr th:only-of-type {\n",
       "        vertical-align: middle;\n",
       "    }\n",
       "\n",
       "    .dataframe tbody tr th {\n",
       "        vertical-align: top;\n",
       "    }\n",
       "\n",
       "    .dataframe thead th {\n",
       "        text-align: right;\n",
       "    }\n",
       "</style>\n",
       "<table border=\"1\" class=\"dataframe\">\n",
       "  <thead>\n",
       "    <tr style=\"text-align: right;\">\n",
       "      <th></th>\n",
       "      <th>C-Cave</th>\n",
       "      <th>D-Tower</th>\n",
       "      <th>M-Mansion</th>\n",
       "    </tr>\n",
       "  </thead>\n",
       "  <tbody>\n",
       "    <tr>\n",
       "      <th>2245</th>\n",
       "      <td>NaN</td>\n",
       "      <td>NaN</td>\n",
       "      <td>NaN</td>\n",
       "    </tr>\n",
       "    <tr>\n",
       "      <th>2300</th>\n",
       "      <td>NaN</td>\n",
       "      <td>NaN</td>\n",
       "      <td>NaN</td>\n",
       "    </tr>\n",
       "    <tr>\n",
       "      <th>2315</th>\n",
       "      <td>NaN</td>\n",
       "      <td>NaN</td>\n",
       "      <td>NaN</td>\n",
       "    </tr>\n",
       "    <tr>\n",
       "      <th>2330</th>\n",
       "      <td>NaN</td>\n",
       "      <td>NaN</td>\n",
       "      <td>NaN</td>\n",
       "    </tr>\n",
       "    <tr>\n",
       "      <th>2345</th>\n",
       "      <td>NaN</td>\n",
       "      <td>NaN</td>\n",
       "      <td>NaN</td>\n",
       "    </tr>\n",
       "  </tbody>\n",
       "</table>\n",
       "</div>"
      ],
      "text/plain": [
       "     C-Cave D-Tower M-Mansion\n",
       "2245    NaN     NaN       NaN\n",
       "2300    NaN     NaN       NaN\n",
       "2315    NaN     NaN       NaN\n",
       "2330    NaN     NaN       NaN\n",
       "2345    NaN     NaN       NaN"
      ]
     },
     "execution_count": 7,
     "metadata": {},
     "output_type": "execute_result"
    }
   ],
   "source": [
    "data.tail()"
   ]
  },
  {
   "cell_type": "code",
   "execution_count": 8,
   "metadata": {},
   "outputs": [],
   "source": [
    "#Buffer time \n",
    "data.at[900,:]=\"buffer\"\n",
    "data.at[1315,:]=\"buffer\"\n",
    "data.at[1330,:]=\"buffer\"\n",
    "data.at[1845,:]=\"buffer\""
   ]
  },
  {
   "cell_type": "code",
   "execution_count": 9,
   "metadata": {},
   "outputs": [
    {
     "name": "stdout",
     "output_type": "stream",
     "text": [
      "Enter the detailsBOOK 10:00 10:30 8\n",
      "BOOK\n",
      "10:00\n",
      "10:30\n"
     ]
    }
   ],
   "source": [
    "#inputing\n",
    "new_entry=input(\"Enter the details\")\n",
    "first_word=new_entry.split(\" \")[0]\n",
    "start_time=new_entry.split(\" \")[1]\n",
    "end_time=new_entry.split(\" \")[2]\n",
    "if(first_word!=\"VACANCY\"):\n",
    "                capacity=int(new_entry.split(\" \")[3])\n",
    "print(first_word)\n",
    "print(start_time)\n",
    "print(end_time)\n",
    "#print(capacity)"
   ]
  },
  {
   "cell_type": "code",
   "execution_count": 10,
   "metadata": {},
   "outputs": [],
   "source": [
    "#function to book r room\n",
    "def booking(timestart,timeend,capacity):\n",
    "    locations=[]\n",
    "    def booking_sub(timestart,timeend,room):\n",
    "        t=timestart\n",
    "        while(t<timeend):\n",
    "            if pd.isnull(data.loc[t,room]):\n",
    "                locations.append(t)\n",
    "                print(locations)\n",
    "                match=str(t)\n",
    "                if match[3:]==\"45\":\n",
    "                    t=t+55\n",
    "                else:t=t+15\n",
    "                print(t)\n",
    "            else:\n",
    "                return(\"NO_VACANT_ROOM\")\n",
    "        for i in locations:\n",
    "            data.at[i,room]=\"booked\"\n",
    "        return(\"BOOKED\")\n",
    "    status1=status2=status3=\"NULL\"\n",
    "    if capacity<=3:\n",
    "        room=\"C-Cave\"\n",
    "        status1=booking_sub(timestart,timeend,room)\n",
    "        if status1==\"BOOKED\":\n",
    "            return(\"BOOKED\",room)\n",
    "    if (3<capacity and capacity<=7) or (status1==\"NO_VACANT_ROOM\"):\n",
    "        room=\"D-Tower\"\n",
    "        status2=booking_sub(timestart,timeend,room)\n",
    "        print(status2)\n",
    "        if status2==\"BOOKED\":\n",
    "            return(\"BOOKED\",room)\n",
    "    if 7<capacity and capacity<=20 or status2==\"NO_VACANT_ROOM\":\n",
    "        room=\"M-Mansion\"\n",
    "        status3=booking_sub(timestart,timeend,room)\n",
    "        if status3==\"BOOKED\":\n",
    "            return(\"BOOKED\",room)\n",
    "        else:return(\"BOOKING UNSUCCESSFUL\")    "
   ]
  },
  {
   "cell_type": "code",
   "execution_count": 11,
   "metadata": {},
   "outputs": [],
   "source": [
    "#Function to check for vacant room\n",
    "def vacancy(timestart,timeend):\n",
    "    rooms=[\"C-Cave\",\"D-Tower\",\"M-Mansion\"]\n",
    "    available_rooms=[]\n",
    "    def vac(timestart,timeend,room):\n",
    "        t=timestart\n",
    "        while(t<timeend):\n",
    "            if pd.isnull(data.loc[t,room]):\n",
    "                #locations.append(t)\n",
    "                match=str(t)\n",
    "                if match[3:]==\"45\":\n",
    "                    t=t+55\n",
    "                else:t=t+15\n",
    "            else:\n",
    "                return(\"NO_VACANT_ROOM\")\n",
    "                break\n",
    "        return(room)\n",
    "    for room in rooms:\n",
    "        result=vac(timestart,timeend,room)\n",
    "        if result!=\"NO_VACANT_ROOM\":\n",
    "            available_rooms.append(room)\n",
    "    return available_rooms \n",
    "        \n",
    "    \n",
    "    \n",
    "    "
   ]
  },
  {
   "cell_type": "code",
   "execution_count": 12,
   "metadata": {},
   "outputs": [
    {
     "name": "stdout",
     "output_type": "stream",
     "text": [
      "10\n",
      "0\n",
      "10\n",
      "30\n",
      "[1000]\n",
      "1015\n",
      "[1000, 1015]\n",
      "1030\n",
      "('BOOKED', 'M-Mansion')\n",
      "[]\n"
     ]
    }
   ],
   "source": [
    "Processing the input and calling the function\n",
    "start_hour=int(start_time.split(\":\")[0])\n",
    "start_min=int(start_time.split(\":\")[1])\n",
    "end_hour=int(end_time.split(\":\")[0])\n",
    "end_min=int(end_time.split(\":\")[1])\n",
    "timestart=int(start_time.split(\":\")[0]+start_time.split(\":\")[1])\n",
    "timeend=int(end_time.split(\":\")[0]+end_time.split(\":\")[1])\n",
    "print(start_hour)\n",
    "print(start_min)\n",
    "print(end_hour)\n",
    "vacancy_list=[]\n",
    "print(end_min)\n",
    "if start_hour>end_hour:\n",
    "    print(\"No_VACANT_ROOM\")\n",
    "elif(start_min>end_min and start_hour==end_hour):\n",
    "    print(\"No_VACANT_ROOM\")\n",
    "elif((start_min!=0 and start_min%15!=0 )or start_min>60):\n",
    "    print(\"NO_VACANT_ROOM\")\n",
    "elif(capacity>20 or capacity<2):\n",
    "    print(\"NO_VACANT_ROOM\")\n",
    "elif(first_word==\"BOOK\"):\n",
    "    out=booking(timestart,timeend,capacity)\n",
    "elif(first_word==\"VACANCY\"):\n",
    "    vacancy_list=vacancy(timestart,timeend)\n",
    "else:print(\"check your input format\")\n",
    "print(out)\n",
    "print(vacancy_list)"
   ]
  },
  {
   "cell_type": "code",
   "execution_count": null,
   "metadata": {},
   "outputs": [],
   "source": []
  }
 ],
 "metadata": {
  "kernelspec": {
   "display_name": "Python 3",
   "language": "python",
   "name": "python3"
  },
  "language_info": {
   "codemirror_mode": {
    "name": "ipython",
    "version": 3
   },
   "file_extension": ".py",
   "mimetype": "text/x-python",
   "name": "python",
   "nbconvert_exporter": "python",
   "pygments_lexer": "ipython3",
   "version": "3.7.3"
  }
 },
 "nbformat": 4,
 "nbformat_minor": 2
}
